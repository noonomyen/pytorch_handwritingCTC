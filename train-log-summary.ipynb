{
 "cells": [
  {
   "cell_type": "code",
   "execution_count": null,
   "metadata": {},
   "outputs": [],
   "source": [
    "import matplotlib.pyplot as plt"
   ]
  },
  {
   "cell_type": "code",
   "execution_count": null,
   "metadata": {},
   "outputs": [],
   "source": [
    "src_data = open(\"train.log\", \"r\", encoding=\"utf-8\").readlines()\n",
    "data = []\n",
    "\n",
    "fit = 0\n",
    "old_epoch = 2\n",
    "sum_epoch = 0\n",
    "\n",
    "epochs = []\n",
    "train_loss = []\n",
    "valid_loss = []\n",
    "cer = []\n",
    "ier = []\n",
    "train_leven = []\n",
    "val_leven = []\n",
    "\n",
    "for idx, line in enumerate(src_data):\n",
    "    if (_ := line.strip()) != \"\\n\" and _ != \"\":\n",
    "        split = line.split(\" \")\n",
    "        sum_epoch += 1\n",
    "        epochs.append(sum_epoch)\n",
    "        train_loss.append(float(split[4]))\n",
    "        valid_loss.append(float(split[8]))\n",
    "        cer.append(float(split[11]))\n",
    "        ier.append(float(split[14]))\n",
    "        train_leven.append(float(split[17]))\n",
    "        val_leven.append(float(split[21]))\n",
    "\n",
    "metrics = {\n",
    "    \"train_loss\": (train_loss, \"Training Loss\"),\n",
    "    \"valid_loss\": (valid_loss, \"Validation Loss\"),\n",
    "    \"cer\": (cer, \"Character Error Rate\"),\n",
    "    \"ier\": (ier, \"Item Error Rate\"),\n",
    "    \"train_leven\": (train_leven, \"Training Levenshtein\"),\n",
    "    \"val_leven\": (val_leven, \"Validation Levenshtein\")\n",
    "}\n",
    "\n",
    "best_val_index = 0\n",
    "\n",
    "for idx in range(1, len(val_leven)):\n",
    "    if val_leven[best_val_index] >= val_leven[idx]:\n",
    "        best_val_index = idx"
   ]
  },
  {
   "cell_type": "code",
   "execution_count": null,
   "metadata": {},
   "outputs": [],
   "source": [
    "plt.figure(figsize=(10, 6))\n",
    "\n",
    "for key in [\"train_loss\", \"valid_loss\"]:\n",
    "    plt.plot(epochs, metrics[key][0], label=metrics[key][1])\n",
    "\n",
    "plt.title(\"Epoch vs Training Loss and Validation Loss\")\n",
    "plt.xlabel(\"Epoch\")\n",
    "plt.ylabel(\"Loss\")\n",
    "plt.legend()\n",
    "plt.grid(True)\n",
    "plt.tight_layout()\n",
    "plt.show()"
   ]
  },
  {
   "cell_type": "code",
   "execution_count": null,
   "metadata": {},
   "outputs": [],
   "source": [
    "plt.figure(figsize=(10, 6))\n",
    "\n",
    "for key in [\"cer\", \"ier\", \"train_leven\", \"val_leven\"]:\n",
    "    plt.plot(epochs, metrics[key][0], label=metrics[key][1])\n",
    "\n",
    "plt.title(\"Epoch vs Character Error Rate, Item Error Rate, Training and Validation Levenshtein\")\n",
    "plt.xlabel(\"Epoch\")\n",
    "plt.ylabel(\"Metrics\")\n",
    "plt.legend()\n",
    "plt.grid(True)\n",
    "plt.tight_layout()\n",
    "plt.show()"
   ]
  },
  {
   "cell_type": "code",
   "execution_count": null,
   "metadata": {},
   "outputs": [],
   "source": [
    "print(f\"Epochs                  {epochs[best_val_index]}\")\n",
    "print(f\"Training Loss           {train_loss[best_val_index]}\")\n",
    "print(f\"Validation Loss         {valid_loss[best_val_index]}\")\n",
    "print(f\"Character Error Rate    {cer[best_val_index]}\")\n",
    "print(f\"Item Error Rate         {ier[best_val_index]}\")\n",
    "print(f\"Training Levenshtein    {train_leven[best_val_index]}\")\n",
    "print(f\"Validation Levenshtein  {val_leven[best_val_index]}\")"
   ]
  }
 ],
 "metadata": {
  "kernelspec": {
   "display_name": "venv",
   "language": "python",
   "name": "python3"
  },
  "language_info": {
   "codemirror_mode": {
    "name": "ipython",
    "version": 3
   },
   "file_extension": ".py",
   "mimetype": "text/x-python",
   "name": "python",
   "nbconvert_exporter": "python",
   "pygments_lexer": "ipython3",
   "version": "3.12.4"
  }
 },
 "nbformat": 4,
 "nbformat_minor": 2
}
