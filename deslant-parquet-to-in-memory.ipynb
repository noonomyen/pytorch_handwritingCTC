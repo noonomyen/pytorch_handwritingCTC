{
 "cells": [
  {
   "cell_type": "code",
   "execution_count": 1,
   "metadata": {},
   "outputs": [],
   "source": [
    "from torchvision.transforms import Compose\n",
    "\n",
    "from htr_crnn_ctc.datasource import ParquetDataSource, InMemoryDataSource\n",
    "from htr_crnn_ctc.dataset import CTCDataset\n",
    "from htr_crnn_ctc.transforms import Deslant"
   ]
  },
  {
   "cell_type": "code",
   "execution_count": 3,
   "metadata": {},
   "outputs": [],
   "source": [
    "pds = ParquetDataSource(\n",
    "    file=\"tmp\\\\dataset\\\\IAM-line\\\\data\\\\train.parquet\",\n",
    "    map_columns=None\n",
    ")\n",
    "\n",
    "imds = InMemoryDataSource(file_path=\"tmp\\\\dataset\\\\IAM-line\\\\data\\\\train.parquet.deslanted.bin\")\n",
    "imds.from_datasource(pds)"
   ]
  },
  {
   "cell_type": "code",
   "execution_count": 4,
   "metadata": {},
   "outputs": [],
   "source": [
    "ds = CTCDataset(\n",
    "    data_source=imds,\n",
    "    char_dict=None,\n",
    "    transform=Compose([\n",
    "        Deslant()\n",
    "    ])\n",
    ")"
   ]
  },
  {
   "cell_type": "code",
   "execution_count": 5,
   "metadata": {},
   "outputs": [
    {
     "name": "stdout",
     "output_type": "stream",
     "text": [
      "6482/6482\n"
     ]
    }
   ],
   "source": [
    "len_ds = len(ds)\n",
    "\n",
    "for i in range(len_ds):\n",
    "    imds[i] = ds[i]\n",
    "    print(f\"\\r{i + 1}/{len_ds}\", end=\"\")\n",
    "\n",
    "imds.dump()\n",
    "\n",
    "print()"
   ]
  }
 ],
 "metadata": {
  "kernelspec": {
   "display_name": "venv",
   "language": "python",
   "name": "python3"
  },
  "language_info": {
   "codemirror_mode": {
    "name": "ipython",
    "version": 3
   },
   "file_extension": ".py",
   "mimetype": "text/x-python",
   "name": "python",
   "nbconvert_exporter": "python",
   "pygments_lexer": "ipython3",
   "version": "3.12.3"
  }
 },
 "nbformat": 4,
 "nbformat_minor": 2
}
