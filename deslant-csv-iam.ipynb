{
 "cells": [
  {
   "cell_type": "code",
   "execution_count": 1,
   "metadata": {},
   "outputs": [],
   "source": [
    "from os import path, makedirs\n",
    "\n",
    "from torchvision.transforms import Compose\n",
    "from skimage import io\n",
    "\n",
    "from htr_crnn_ctc.datasource import IAM_CSVDataSource\n",
    "from htr_crnn_ctc.dataset import CTCDataset\n",
    "from htr_crnn_ctc.transforms import Deslant"
   ]
  },
  {
   "cell_type": "code",
   "execution_count": 3,
   "metadata": {},
   "outputs": [],
   "source": [
    "data_source = IAM_CSVDataSource(\n",
    "    file=\"words.csv\",\n",
    "    root_path=\"tmp\\\\dataset\\\\words\",\n",
    "    map_columns={\"text\": \"word\"}\n",
    ")"
   ]
  },
  {
   "cell_type": "code",
   "execution_count": 4,
   "metadata": {},
   "outputs": [],
   "source": [
    "ds = CTCDataset(\n",
    "    data_source=data_source,\n",
    "    char_dict=None,\n",
    "    transform=Compose([\n",
    "        Deslant()\n",
    "    ])\n",
    ")"
   ]
  },
  {
   "cell_type": "code",
   "execution_count": 5,
   "metadata": {},
   "outputs": [
    {
     "name": "stdout",
     "output_type": "stream",
     "text": [
      "38304/38304\n"
     ]
    }
   ],
   "source": [
    "len_ds = len(ds)\n",
    "\n",
    "for i in range(len_ds):\n",
    "    filename = data_source.index_filename(i)\n",
    "    file_dirname = path.join(\"tmp\\\\dataset\\\\words-deslanted\", data_source.get_image_dirname(filename))\n",
    "\n",
    "    if not path.isdir(file_dirname):\n",
    "        makedirs(file_dirname)\n",
    "\n",
    "    io.imsave(path.join(file_dirname, filename), ds[i].image)\n",
    "\n",
    "    print(f\"\\r{i + 1}/{len_ds}\", end=\"\")\n",
    "\n",
    "print()"
   ]
  }
 ],
 "metadata": {
  "kernelspec": {
   "display_name": "venv",
   "language": "python",
   "name": "python3"
  },
  "language_info": {
   "codemirror_mode": {
    "name": "ipython",
    "version": 3
   },
   "file_extension": ".py",
   "mimetype": "text/x-python",
   "name": "python",
   "nbconvert_exporter": "python",
   "pygments_lexer": "ipython3",
   "version": "3.12.3"
  }
 },
 "nbformat": 4,
 "nbformat_minor": 2
}
