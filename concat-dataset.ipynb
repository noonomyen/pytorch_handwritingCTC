{
 "cells": [
  {
   "cell_type": "code",
   "execution_count": 1,
   "metadata": {},
   "outputs": [],
   "source": [
    "from torchvision.transforms import Compose\n",
    "\n",
    "from htr_crnn_ctc.datasource import ParquetDataSource\n",
    "from htr_crnn_ctc.dataset import CTCDataset\n",
    "from htr_crnn_ctc.transforms import Rescale, ToRGB, ToTensor, Normalise"
   ]
  },
  {
   "cell_type": "code",
   "execution_count": 2,
   "metadata": {},
   "outputs": [],
   "source": [
    "trans = Compose([\n",
    "    Rescale(\n",
    "        output_size=(64, 800),\n",
    "        random_pad=True,\n",
    "        border_pad=(10, 40), \n",
    "        random_rotation=2,\n",
    "        random_stretch=1.2\n",
    "    ),\n",
    "    ToRGB(), \n",
    "    ToTensor(rgb=True),\n",
    "    Normalise(\n",
    "        mean=[0.485, 0.456, 0.406],\n",
    "        std=[0.229, 0.224, 0.225]\n",
    "    )\n",
    "])"
   ]
  },
  {
   "cell_type": "code",
   "execution_count": 3,
   "metadata": {},
   "outputs": [],
   "source": [
    "ds_train = CTCDataset(\n",
    "    data_source=ParquetDataSource(\n",
    "        file=\"tmp\\\\dataset\\\\IAM-line\\\\data\\\\train.parquet\",\n",
    "        map_columns=None\n",
    "    ),\n",
    "    char_dict=None,\n",
    "    transform=trans\n",
    ")\n",
    "\n",
    "ds_test = CTCDataset(\n",
    "    data_source=ParquetDataSource(\n",
    "        file=\"tmp\\\\dataset\\\\IAM-line\\\\data\\\\test.parquet\",\n",
    "        map_columns=None\n",
    "    ),\n",
    "    char_dict=None,\n",
    "    transform=trans\n",
    ")"
   ]
  },
  {
   "cell_type": "code",
   "execution_count": 4,
   "metadata": {},
   "outputs": [
    {
     "name": "stdout",
     "output_type": "stream",
     "text": [
      "<class 'htr_crnn_ctc.dataset.CTCDataset'> | len 6482\n",
      "<class 'htr_crnn_ctc.dataset.CTCDataset'> | len 2915\n",
      "<class 'htr_crnn_ctc.dataset.CTCConcatDataset'> | len 9397\n"
     ]
    }
   ],
   "source": [
    "ds = ds_train + ds_test\n",
    "\n",
    "print(f\"{type(ds_train)} | len {len(ds_train)}\")\n",
    "print(f\"{type(ds_test)} | len {len(ds_test)}\")\n",
    "print(f\"{type(ds)} | len {len(ds)}\")"
   ]
  }
 ],
 "metadata": {
  "kernelspec": {
   "display_name": "venv",
   "language": "python",
   "name": "python3"
  },
  "language_info": {
   "codemirror_mode": {
    "name": "ipython",
    "version": 3
   },
   "file_extension": ".py",
   "mimetype": "text/x-python",
   "name": "python",
   "nbconvert_exporter": "python",
   "pygments_lexer": "ipython3",
   "version": "3.12.3"
  }
 },
 "nbformat": 4,
 "nbformat_minor": 2
}
